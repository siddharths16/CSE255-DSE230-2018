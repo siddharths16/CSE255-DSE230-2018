{
 "cells": [
  {
   "cell_type": "code",
   "execution_count": null,
   "metadata": {
    "ExecuteTime": {
     "end_time": "2018-04-27T04:18:23.566083Z",
     "start_time": "2018-04-27T04:18:23.563400Z"
    },
    "slideshow": {
     "slide_type": "skip"
    }
   },
   "outputs": [],
   "source": [
    "#setup\n",
    "data_dir='../Data/Weather'\n",
    "#!ls $data_dir\n",
    "state='NY'\n",
    "m='PRCP_s20'"
   ]
  },
  {
   "cell_type": "markdown",
   "metadata": {
    "slideshow": {
     "slide_type": "slide"
    }
   },
   "source": [
    "## Spectral Analysis of smoothed PRCP"
   ]
  },
  {
   "cell_type": "markdown",
   "metadata": {
    "slideshow": {
     "slide_type": "skip"
    }
   },
   "source": [
    "## Loading libdaries and data\n",
    "### Load the required libraries"
   ]
  },
  {
   "cell_type": "code",
   "execution_count": null,
   "metadata": {
    "ExecuteTime": {
     "end_time": "2018-04-27T04:18:27.037385Z",
     "start_time": "2018-04-27T04:18:26.076840Z"
    },
    "slideshow": {
     "slide_type": "skip"
    }
   },
   "outputs": [],
   "source": [
    "# Enable automiatic reload of libraries\n",
    "%load_ext autoreload\n",
    "%autoreload 2 # means that all modules are reloaded before every command\n",
    "\n",
    "%pylab inline\n",
    "#%pylab inline\n",
    "import numpy as np\n",
    "\n",
    "import findspark\n",
    "findspark.init()\n",
    "\n",
    "#import sys\n",
    "#sys.path.append('./lib')\n",
    "\n",
    "from lib.numpy_pack import packArray,unpackArray\n",
    "\n",
    "#from lib.Eigen_decomp import Eigen_decomp\n",
    "from lib.YearPlotter import YearPlotter\n",
    "from lib.decomposer import *\n",
    "from lib.Reconstruction_plots import *\n",
    "\n",
    "\n",
    "from lib.import_modules import import_modules,modules\n",
    "import_modules(modules)\n",
    "\n",
    "from lib.getFiles import *\n",
    "\n",
    "import matplotlib.pyplot as plt\n",
    "from ipywidgets import interact, interactive, fixed, interact_manual,widgets\n",
    "import ipywidgets as widgets\n",
    "\n",
    "print('version of ipwidgets=',widgets.__version__)\n",
    "\n",
    "import warnings  # Suppress Warnings\n",
    "warnings.filterwarnings('ignore')"
   ]
  },
  {
   "cell_type": "code",
   "execution_count": null,
   "metadata": {
    "ExecuteTime": {
     "end_time": "2018-04-27T04:18:36.112692Z",
     "start_time": "2018-04-27T04:18:33.273930Z"
    },
    "slideshow": {
     "slide_type": "skip"
    }
   },
   "outputs": [],
   "source": [
    "from pyspark import SparkContext\n",
    "#sc.stop()\n",
    "\n",
    "sc = SparkContext(master=\"local[3]\",pyFiles=['lib/numpy_pack.py','lib/spark_PCA.py','lib/computeStatistics.py','lib/Reconstruction_plots.py','lib/decomposer.py'])\n",
    "\n",
    "from pyspark import SparkContext\n",
    "from pyspark.sql import *\n",
    "sqlContext = SQLContext(sc)\n"
   ]
  },
  {
   "cell_type": "markdown",
   "metadata": {
    "slideshow": {
     "slide_type": "skip"
    }
   },
   "source": [
    "### Read Statistics File"
   ]
  },
  {
   "cell_type": "code",
   "execution_count": null,
   "metadata": {
    "ExecuteTime": {
     "end_time": "2018-04-27T04:19:39.751637Z",
     "start_time": "2018-04-27T04:19:39.605825Z"
    }
   },
   "outputs": [],
   "source": [
    "get_weather_files(state,data_dir)\n",
    "!du -h $data_dir"
   ]
  },
  {
   "cell_type": "code",
   "execution_count": null,
   "metadata": {
    "ExecuteTime": {
     "end_time": "2018-04-27T04:20:05.917009Z",
     "start_time": "2018-04-27T04:20:05.856020Z"
    },
    "slideshow": {
     "slide_type": "skip"
    }
   },
   "outputs": [],
   "source": [
    "from pickle import load\n",
    "\n",
    "#read statistics\n",
    "filename=data_dir+'/STAT_%s.pickle'%state\n",
    "STAT,STAT_Descriptions = load(open(filename,'rb'))\n",
    "measurements=STAT.keys()\n",
    "print('keys from STAT=',measurements)"
   ]
  },
  {
   "cell_type": "code",
   "execution_count": null,
   "metadata": {
    "ExecuteTime": {
     "end_time": "2018-04-27T04:20:11.373749Z",
     "start_time": "2018-04-27T04:20:11.370781Z"
    }
   },
   "outputs": [],
   "source": [
    "EigVec=STAT[m]['eigvec']\n",
    "Mean=STAT[m]['Mean']"
   ]
  },
  {
   "cell_type": "markdown",
   "metadata": {
    "slideshow": {
     "slide_type": "skip"
    }
   },
   "source": [
    "### Read data file into a spark DataFrame\n",
    "We focus on the snow-depth records, because the eigen-vectors for them make sense."
   ]
  },
  {
   "cell_type": "code",
   "execution_count": null,
   "metadata": {
    "ExecuteTime": {
     "end_time": "2018-04-27T04:20:23.141637Z",
     "start_time": "2018-04-27T04:20:19.205757Z"
    },
    "scrolled": true,
    "slideshow": {
     "slide_type": "skip"
    }
   },
   "outputs": [],
   "source": [
    "#read data\n",
    "filename=data_dir+'/%s.parquet'%state\n",
    "df_in=sqlContext.read.parquet(filename)\n",
    "#filter in \n",
    "df=df_in.filter(df_in.Measurement==m)\n",
    "df=df.drop('State')\n",
    "df.show(5)"
   ]
  },
  {
   "cell_type": "markdown",
   "metadata": {
    "slideshow": {
     "slide_type": "subslide"
    }
   },
   "source": [
    "## Computing decomposition for each row, and add columns for coefficients and residuals\n",
    "\n",
    "Residuals are the remainder left after successive approximations:  \n",
    "1) Original vector = $\\vec{v}$"
   ]
  },
  {
   "cell_type": "markdown",
   "metadata": {
    "slideshow": {
     "slide_type": "fragment"
    }
   },
   "source": [
    "2) $\\vec{r}_0=\\vec{v}-\\vec{\\mu}$"
   ]
  },
  {
   "cell_type": "markdown",
   "metadata": {
    "slideshow": {
     "slide_type": "fragment"
    }
   },
   "source": [
    "3) $\\vec{r}_1=\\vec{r}_0-(\\vec{v}\\cdot \\vec{u}_1) \\vec{u}_1$"
   ]
  },
  {
   "cell_type": "markdown",
   "metadata": {
    "slideshow": {
     "slide_type": "fragment"
    }
   },
   "source": [
    "4) $\\vec{r}_2=\\vec{r}_1-(\\vec{v}\\cdot \\vec{u}_2) \\vec{u}_2$"
   ]
  },
  {
   "cell_type": "markdown",
   "metadata": {
    "slideshow": {
     "slide_type": "fragment"
    }
   },
   "source": [
    "5) $\\vec{r}_3=\\vec{r}_0-(\\vec{v}\\cdot \\vec{u}_3) \\vec{u}_3$  \n",
    "6) ......"
   ]
  },
  {
   "cell_type": "markdown",
   "metadata": {
    "slideshow": {
     "slide_type": "subslide"
    }
   },
   "source": [
    "For each reidual $\\vec{r}_i$ we compute it's square norm, which we will refer to as **residual norm** :\n",
    "$$\\|\\vec{r}_i\\|_2^2 = \\sum_{j=1}^n (r_{i,j})^2$$  \n",
    "The smaller tha norm, the better the approximation."
   ]
  },
  {
   "cell_type": "markdown",
   "metadata": {
    "slideshow": {
     "slide_type": "subslide"
    }
   },
   "source": [
    "#### A few things we know from linear algebra:\n",
    "\n",
    "1) The zero'th residual norm is the square distance of $\\vec{v}$ from the mean $\\vec{\\mu}$"
   ]
  },
  {
   "cell_type": "markdown",
   "metadata": {
    "slideshow": {
     "slide_type": "fragment"
    }
   },
   "source": [
    "2) The $k$'th residual norm is the minimal square between $\\vec{v}$ and a point that can be exspressed as\n",
    "$$ \\vec{w}_k = \\vec{\\mu} + \\sum_{i=1}^k c_i \\vec{u}_i$$\n",
    "Where $c_1,\\ldots,c_k$ are arbitrary real numbers. We call $\\vec{w}_k$ the $k$'th approximation or reconstruction of $\\vec{v}$."
   ]
  },
  {
   "cell_type": "markdown",
   "metadata": {
    "slideshow": {
     "slide_type": "fragment"
    }
   },
   "source": [
    "3) The residual norms are non-increasing.  \n",
    "4) The residual vector $\\vec{r}_n$ is the zero vector. In other words, $\\vec{w}_n = \\vec{v}$."
   ]
  },
  {
   "cell_type": "markdown",
   "metadata": {
    "slideshow": {
     "slide_type": "subslide"
    }
   },
   "source": [
    "`decompose_dataframe` axtracts the series from the row, computes the `k` to decomposition coefficients and \n",
    "the square norm of the residuals and constructs a new row that is reassembled into a new dataframe.  \n",
    "\n",
    "For more details, use `%load lib/decomposer.py`"
   ]
  },
  {
   "cell_type": "code",
   "execution_count": null,
   "metadata": {
    "ExecuteTime": {
     "end_time": "2018-04-27T04:20:37.677431Z",
     "start_time": "2018-04-27T04:20:36.889807Z"
    },
    "slideshow": {
     "slide_type": "fragment"
    }
   },
   "outputs": [],
   "source": [
    "%%time\n",
    "k=5\n",
    "df2=decompose_dataframe(sqlContext,df,EigVec[:,:k],Mean).cache() # Make it possible to generate only first k coefficients."
   ]
  },
  {
   "cell_type": "code",
   "execution_count": null,
   "metadata": {
    "ExecuteTime": {
     "end_time": "2018-04-27T04:20:48.229622Z",
     "start_time": "2018-04-27T04:20:42.984921Z"
    },
    "scrolled": true,
    "slideshow": {
     "slide_type": "fragment"
    }
   },
   "outputs": [],
   "source": [
    "%%time\n",
    "print(df2.count())"
   ]
  },
  {
   "cell_type": "code",
   "execution_count": null,
   "metadata": {
    "ExecuteTime": {
     "end_time": "2018-04-27T04:26:55.528696Z",
     "start_time": "2018-04-27T04:26:55.449833Z"
    }
   },
   "outputs": [],
   "source": [
    "df2.show(1)"
   ]
  },
  {
   "cell_type": "code",
   "execution_count": null,
   "metadata": {
    "ExecuteTime": {
     "end_time": "2018-04-27T04:27:40.591296Z",
     "start_time": "2018-04-27T04:27:40.542917Z"
    },
    "slideshow": {
     "slide_type": "subslide"
    }
   },
   "outputs": [],
   "source": [
    "\n",
    "df2.show(1)"
   ]
  },
  {
   "cell_type": "markdown",
   "metadata": {
    "slideshow": {
     "slide_type": "skip"
    }
   },
   "source": [
    "### Saving the decomposition in a Parquet file"
   ]
  },
  {
   "cell_type": "code",
   "execution_count": null,
   "metadata": {
    "ExecuteTime": {
     "end_time": "2018-04-27T04:27:55.838695Z",
     "start_time": "2018-04-27T04:27:55.777812Z"
    }
   },
   "outputs": [],
   "source": [
    "df2.count()"
   ]
  },
  {
   "cell_type": "code",
   "execution_count": null,
   "metadata": {
    "ExecuteTime": {
     "end_time": "2018-04-27T04:28:05.093805Z",
     "start_time": "2018-04-27T04:28:04.958635Z"
    },
    "slideshow": {
     "slide_type": "skip"
    }
   },
   "outputs": [],
   "source": [
    "filename=data_dir+'/decon_'+state+'_'+m+'.parquet'\n",
    "!rm -rf $filename\n",
    "filename"
   ]
  },
  {
   "cell_type": "code",
   "execution_count": null,
   "metadata": {
    "ExecuteTime": {
     "end_time": "2018-04-27T04:28:11.205509Z",
     "start_time": "2018-04-27T04:28:10.681454Z"
    },
    "slideshow": {
     "slide_type": "skip"
    }
   },
   "outputs": [],
   "source": [
    "df2.write.parquet(filename)"
   ]
  },
  {
   "cell_type": "code",
   "execution_count": null,
   "metadata": {
    "ExecuteTime": {
     "end_time": "2018-04-27T04:28:17.305104Z",
     "start_time": "2018-04-27T04:28:17.162355Z"
    },
    "slideshow": {
     "slide_type": "skip"
    }
   },
   "outputs": [],
   "source": [
    "!du -sh $data_dir/*.parquet"
   ]
  },
  {
   "cell_type": "markdown",
   "metadata": {
    "slideshow": {
     "slide_type": "slide"
    }
   },
   "source": [
    "## Plot mean and top eigenvectors\n",
    "\n",
    "Construct approximations of a time series using the mean and the $k$ top eigen-vectors\n",
    "First, we plot the mean and the top $k$ eigenvectors"
   ]
  },
  {
   "cell_type": "code",
   "execution_count": null,
   "metadata": {
    "ExecuteTime": {
     "end_time": "2018-04-27T04:28:40.340079Z",
     "start_time": "2018-04-27T04:28:39.742959Z"
    },
    "hide_input": false,
    "scrolled": false,
    "slideshow": {
     "slide_type": "subslide"
    }
   },
   "outputs": [],
   "source": [
    "import pylab as plt\n",
    "fig,axes=plt.subplots(2,1, sharex='col', sharey='row',figsize=(10,10));\n",
    "k=3\n",
    "EigVec=np.array(STAT[m]['eigvec'][:,:k])\n",
    "Mean=STAT[m]['Mean']\n",
    "YearPlotter().plot(Mean,fig,axes[0],label='Mean',title=m+' Mean')\n",
    "YearPlotter().plot(EigVec,fig,axes[1],title=m+' Eigs',labels=['eig'+str(i+1) for i in range(k)])"
   ]
  },
  {
   "cell_type": "markdown",
   "metadata": {
    "slideshow": {
     "slide_type": "subslide"
    }
   },
   "source": [
    "## plot Percentage of variance explained"
   ]
  },
  {
   "cell_type": "code",
   "execution_count": null,
   "metadata": {
    "ExecuteTime": {
     "end_time": "2018-04-27T04:30:33.324906Z",
     "start_time": "2018-04-27T04:30:33.147137Z"
    },
    "hide_input": true,
    "scrolled": false,
    "slideshow": {
     "slide_type": "fragment"
    }
   },
   "outputs": [],
   "source": [
    "#  x=0 in the graphs below correspond to the fraction of the variance explained by the mean alone\n",
    "#  x=1,2,3,... are the residuals for eig1, eig1+eig2, eig1+eig2+eig3 ...\n",
    "fig,ax=plt.subplots(1,1);\n",
    "eigvals=STAT[m]['eigval']; eigvals/=sum(eigvals); cumvar=np.cumsum(eigvals); cumvar=100*np.insert(cumvar,0,0)\n",
    "ax.plot(cumvar[:10]); \n",
    "ax.grid(); \n",
    "ax.set_ylabel('Percent of variance explained')\n",
    "ax.set_xlabel('number of eigenvectors')\n",
    "ax.set_title(m+' Percent of variance explained');"
   ]
  },
  {
   "cell_type": "markdown",
   "metadata": {
    "slideshow": {
     "slide_type": "subslide"
    }
   },
   "source": [
    "## Exploring the decomposition\n"
   ]
  },
  {
   "cell_type": "markdown",
   "metadata": {
    "slideshow": {
     "slide_type": "subslide"
    }
   },
   "source": [
    "### Intuitive analysis"
   ]
  },
  {
   "cell_type": "code",
   "execution_count": null,
   "metadata": {
    "ExecuteTime": {
     "end_time": "2018-04-27T04:30:50.614840Z",
     "start_time": "2018-04-27T04:30:50.607758Z"
    },
    "slideshow": {
     "slide_type": "skip"
    }
   },
   "outputs": [],
   "source": [
    "#combine mean with Eigvecs and scale to similar range.\n",
    "print(EigVec.shape)\n",
    "_norm_Mean=Mean/max(Mean)*0.2\n",
    "A=[_norm_Mean]+[EigVec[:,i] for i in range(EigVec.shape[1])]\n",
    "Combined=np.stack(A).transpose()\n",
    "Combined.shape"
   ]
  },
  {
   "cell_type": "code",
   "execution_count": null,
   "metadata": {
    "ExecuteTime": {
     "end_time": "2018-04-27T04:30:52.666286Z",
     "start_time": "2018-04-27T04:30:52.495101Z"
    },
    "hide_input": true,
    "scrolled": true,
    "slideshow": {
     "slide_type": "subslide"
    }
   },
   "outputs": [],
   "source": [
    "import pylab as plt\n",
    "fig,axes=plt.subplots(1,1, sharex='col', sharey='row',figsize=(10,5));\n",
    "k=3\n",
    "EigVec=np.array(STAT[m]['eigvec'][:,:k])\n",
    "Mean=STAT[m]['Mean']\n",
    "#YearPlotter().plot(Mean,fig,axes[0],label='Mean',title=m+' Mean')\n",
    "YearPlotter().plot(Combined,fig,axes,title=m+' Eigs',labels=['Mean']+['eig'+str(i+1) for i in range(k)])"
   ]
  },
  {
   "cell_type": "markdown",
   "metadata": {
    "slideshow": {
     "slide_type": "fragment"
    }
   },
   "source": [
    "* **Eig1** is very similar to the Mean --- Indicates heavy/light snow\n",
    "* If **coef_1** is large: snow accumulation is higher."
   ]
  },
  {
   "cell_type": "markdown",
   "metadata": {
    "slideshow": {
     "slide_type": "fragment"
    }
   },
   "source": [
    "* **Eig2** is positive january, negative march. Indicates early vs. late season\n",
    "* If **coef_2** is high: snow season is early."
   ]
  },
  {
   "cell_type": "markdown",
   "metadata": {
    "slideshow": {
     "slide_type": "fragment"
    }
   },
   "source": [
    "* **Eig3** is positive Feb, negative Jan, March -- Indicates a short or long season.\n",
    "* If **Coef_3** is high: Season is short."
   ]
  },
  {
   "cell_type": "markdown",
   "metadata": {
    "slideshow": {
     "slide_type": "slide"
    }
   },
   "source": [
    "### Studying the effect of Coefficient 1"
   ]
  },
  {
   "cell_type": "code",
   "execution_count": null,
   "metadata": {
    "ExecuteTime": {
     "end_time": "2018-04-27T04:32:56.258689Z",
     "start_time": "2018-04-27T04:32:51.369056Z"
    },
    "slideshow": {
     "slide_type": "subslide"
    }
   },
   "outputs": [],
   "source": [
    "df4=df2.filter(df2.res_2<0.1).sort(df2.coeff_1)\n",
    "print(df4.count())\n",
    "all_rows=df4.collect()\n",
    "rows=all_rows[:12]"
   ]
  },
  {
   "cell_type": "code",
   "execution_count": null,
   "metadata": {
    "ExecuteTime": {
     "end_time": "2018-04-27T04:32:57.437015Z",
     "start_time": "2018-04-27T04:32:57.383142Z"
    },
    "scrolled": false,
    "slideshow": {
     "slide_type": "subslide"
    }
   },
   "outputs": [],
   "source": [
    "# Checking that res_2 is smaller than 0.1 and that rows are sorted based on coeff_2\n",
    "df4.select('coeff_1','coeff_2','coeff_3','res_1','res_2','res_3',).show(n=4,truncate=14)"
   ]
  },
  {
   "cell_type": "code",
   "execution_count": null,
   "metadata": {
    "ExecuteTime": {
     "end_time": "2018-04-27T04:41:43.456110Z",
     "start_time": "2018-04-27T04:41:40.941987Z"
    },
    "hide_input": true,
    "slideshow": {
     "slide_type": "subslide"
    }
   },
   "outputs": [],
   "source": [
    "plot_recon_grid(all_rows[:12],Mean,EigVec,header='c1=%5.0f, c2=%5.0f',params=('coeff_1','coeff_2'))\n",
    "savefig('r_figures/SNWD_grid_negative_coeff_2.png')"
   ]
  },
  {
   "cell_type": "code",
   "execution_count": null,
   "metadata": {
    "ExecuteTime": {
     "end_time": "2018-04-27T04:42:31.524170Z",
     "start_time": "2018-04-27T04:42:29.085830Z"
    },
    "slideshow": {
     "slide_type": "subslide"
    }
   },
   "outputs": [],
   "source": [
    "plot_recon_grid(all_rows[-12:],Mean,EigVec,header='c1=%5.0f, c2=%5.0f',params=('coeff_1','coeff_2'))\n",
    "savefig('r_figures/SNWD_grid_positive_coeff_2.png')"
   ]
  },
  {
   "cell_type": "markdown",
   "metadata": {
    "slideshow": {
     "slide_type": "slide"
    }
   },
   "source": [
    "### Studying the effect of Coefficient 2"
   ]
  },
  {
   "cell_type": "code",
   "execution_count": null,
   "metadata": {
    "ExecuteTime": {
     "end_time": "2018-04-27T04:45:35.357266Z",
     "start_time": "2018-04-27T04:45:31.450437Z"
    },
    "slideshow": {
     "slide_type": "subslide"
    }
   },
   "outputs": [],
   "source": [
    "df4=df2.filter(df2.res_2<0.1).sort(df2.coeff_2)\n",
    "print(df4.count())\n",
    "all_rows=df4.collect()\n",
    "rows=all_rows[:12]"
   ]
  },
  {
   "cell_type": "code",
   "execution_count": null,
   "metadata": {
    "ExecuteTime": {
     "end_time": "2018-04-27T04:46:26.520904Z",
     "start_time": "2018-04-27T04:46:24.116308Z"
    },
    "slideshow": {
     "slide_type": "subslide"
    }
   },
   "outputs": [],
   "source": [
    "plot_recon_grid(all_rows[:12],Mean,EigVec,header='c1=%5.0f, c2=%5.0f',params=('coeff_1','coeff_2'))\n",
    "savefig('r_figures/SNWD_grid_negative_coeff_3.png')"
   ]
  },
  {
   "cell_type": "code",
   "execution_count": null,
   "metadata": {
    "ExecuteTime": {
     "end_time": "2018-04-27T04:46:50.784837Z",
     "start_time": "2018-04-27T04:46:48.768649Z"
    },
    "slideshow": {
     "slide_type": "subslide"
    }
   },
   "outputs": [],
   "source": [
    "plot_recon_grid(all_rows[-12:],Mean,EigVec,header='c1=%5.0f, c2=%5.0f',params=('coeff_1','coeff_2'))"
   ]
  },
  {
   "cell_type": "markdown",
   "metadata": {},
   "source": [
    "### Best Fit\n",
    "\n",
    "First, lets plot the SNWD sequences which are best approximated using the first three eigen-vectors.\n",
    "\n",
    "In other words, the sequences for which the third residual is smallest.\n",
    "\n",
    "We can think of these as **architypical** sequences."
   ]
  },
  {
   "cell_type": "code",
   "execution_count": null,
   "metadata": {
    "ExecuteTime": {
     "end_time": "2018-04-27T04:50:07.137469Z",
     "start_time": "2018-04-27T04:50:04.264096Z"
    },
    "slideshow": {
     "slide_type": "subslide"
    }
   },
   "outputs": [],
   "source": [
    "df4=df2.sort(df2.res_3)\n",
    "print(df4.count())\n",
    "all_rows=df4.collect()\n",
    "df4.select('coeff_1','coeff_2','coeff_3','res_3').show(n=4,truncate=14)"
   ]
  },
  {
   "cell_type": "code",
   "execution_count": null,
   "metadata": {
    "ExecuteTime": {
     "end_time": "2018-04-27T04:50:22.496995Z",
     "start_time": "2018-04-27T04:50:19.929451Z"
    },
    "scrolled": false
   },
   "outputs": [],
   "source": [
    "plot_recon_grid(all_rows[:12],Mean,EigVec,header='res_3=%3.2f', params=('res_3',))"
   ]
  },
  {
   "cell_type": "markdown",
   "metadata": {},
   "source": [
    "## worst fit\n",
    "\n",
    "Next, lets look at the sequence whose third residual is largest.\n",
    "\n",
    "We can think of those as **outliers** or **noise**. These seuqnces do not fit our model. \n",
    "\n",
    "Have many of these outliers is a problem: we are either getting poor data, or else our model is inadequate."
   ]
  },
  {
   "cell_type": "code",
   "execution_count": null,
   "metadata": {
    "ExecuteTime": {
     "end_time": "2018-04-27T04:50:57.436763Z",
     "start_time": "2018-04-27T04:50:55.376093Z"
    }
   },
   "outputs": [],
   "source": [
    "bad_rows=all_rows[-4:]+all_rows[-504:-500]+all_rows[-1004:-1000]\n",
    "plot_recon_grid(bad_rows,Mean,EigVec,header='res_3=%3.2f', params=('res_3',))"
   ]
  },
  {
   "cell_type": "markdown",
   "metadata": {},
   "source": [
    "### Something to try\n",
    "Clearly, the majority of the poor fits are a result of undefined entries in the data.  \n",
    "Can you change the command to focus on years where most of the measurements are defined?"
   ]
  },
  {
   "cell_type": "markdown",
   "metadata": {
    "slideshow": {
     "slide_type": "slide"
    }
   },
   "source": [
    "## Interactive plot of reconstruction\n",
    "\n",
    "Following is an interactive widget which lets you change the coefficients of the eigen-vectors to see the effect on the approximation.\n",
    "The initial state of the sliders (in the middle) corresponds to the optimal setting. You can zero a positive coefficient by moving the slider all the way down, zero a negative coefficient by moving it all the way up."
   ]
  },
  {
   "cell_type": "code",
   "execution_count": null,
   "metadata": {
    "ExecuteTime": {
     "end_time": "2018-04-27T04:52:28.328930Z",
     "start_time": "2018-04-27T04:52:28.285898Z"
    },
    "slideshow": {
     "slide_type": "slide"
    }
   },
   "outputs": [],
   "source": [
    "row=rows[5]\n",
    "target=np.array(unpackArray(row.Values,np.float16),dtype=np.float64)\n",
    "eigen_decomp=Eigen_decomp(None,target,Mean,EigVec)\n",
    "total_var,residuals,coeff=eigen_decomp.compute_var_explained()\n",
    "res=residuals[1]\n",
    "print('residual normalized norm  after mean:',res[0])\n",
    "print('residual normalized norm  after mean + top eigs:',res[1:])\n",
    "\n",
    "plotter=recon_plot(eigen_decomp,year_axis=True,interactive=True)\n",
    "display(plotter.get_Interactive())"
   ]
  }
 ],
 "metadata": {
  "anaconda-cloud": {},
  "celltoolbar": "Slideshow",
  "hide_input": false,
  "kernelspec": {
   "display_name": "Python 3",
   "language": "python",
   "name": "python3"
  },
  "language_info": {
   "codemirror_mode": {
    "name": "ipython",
    "version": 3
   },
   "file_extension": ".py",
   "mimetype": "text/x-python",
   "name": "python",
   "nbconvert_exporter": "python",
   "pygments_lexer": "ipython3",
   "version": "3.6.5"
  },
  "toc": {
   "nav_menu": {
    "height": "118px",
    "width": "252px"
   },
   "number_sections": true,
   "sideBar": true,
   "skip_h1_title": false,
   "title_cell": "Table of Contents",
   "title_sidebar": "Contents",
   "toc_cell": false,
   "toc_position": {},
   "toc_section_display": "block",
   "toc_window_display": false
  },
  "widgets": {
   "state": {
    "0d4726d074414304b7910c9bc9aee2a0": {
     "views": [
      {
       "cell_index": 31
      }
     ]
    },
    "9dfb4bbaf8664891a93b62da7476d8fe": {
     "views": [
      {
       "cell_index": 22
      }
     ]
    }
   },
   "version": "1.2.0"
  }
 },
 "nbformat": 4,
 "nbformat_minor": 1
}
